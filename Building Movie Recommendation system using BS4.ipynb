{
 "cells": [
  {
   "cell_type": "code",
   "execution_count": 2,
   "id": "c5d09a07",
   "metadata": {},
   "outputs": [],
   "source": [
    "import requests\n",
    "from bs4 import BeautifulSoup"
   ]
  },
  {
   "cell_type": "code",
   "execution_count": 3,
   "id": "05d64ffc",
   "metadata": {},
   "outputs": [],
   "source": [
    "import urllib3\n",
    "urllib3.disable_warnings(urllib3.exceptions.InsecureRequestWarning)"
   ]
  },
  {
   "cell_type": "code",
   "execution_count": 4,
   "id": "73ba6957",
   "metadata": {},
   "outputs": [],
   "source": [
    "headers = {\"User-Agent\": \"Mozilla/5.0 (Windows NT 10.0; Win64; x64) AppleWebKit/537.36 (KHTML, like Gecko) Chrome/109.0.0.0 Safari/537.36\",}"
   ]
  },
  {
   "cell_type": "code",
   "execution_count": 7,
   "id": "9043d306",
   "metadata": {},
   "outputs": [
    {
     "name": "stdout",
     "output_type": "stream",
     "text": [
      "Enter Movie: 1. The Shawshank Redemption\n",
      "https://www.imdb.com/title/tt0111161/?ref_=chttp_t_1\n",
      "Frank Darabont https://www.imdb.com//name/nm0001104/?ref_=tt_ov_dr\n",
      "The Shawshank Redemption,The Green Mile,The Mist,The Walking Dead\n"
     ]
    }
   ],
   "source": [
    "userMovieName = input(\"Enter Movie: \")\n",
    "r = requests.get(\"https://www.imdb.com/chart/top/\", headers = headers, verify=False)\n",
    "html = r.text\n",
    "soup = BeautifulSoup(html, 'html.parser')\n",
    "body = soup.find('ul', {'class':'ipc-metadata-list ipc-metadata-list--dividers-between sc-a1e81754-0 eBRbsI compact-list-view ipc-metadata-list--base'})\n",
    "rows = body.findAll('li')\n",
    "for row in rows:\n",
    "    list_of_movies = row.find('div', {'class':'ipc-metadata-list-summary-item__c'})\n",
    "    movieName = list_of_movies.h3.string.strip()\n",
    "    if movieName == userMovieName:\n",
    "        movieId = list_of_movies.a['href']\n",
    "        movieurl = f\"https://www.imdb.com{movieId}\"\n",
    "        print(movieurl)\n",
    "        \n",
    "        r2 = requests.get(movieurl, headers = headers, verify=False)\n",
    "        html = r2.text\n",
    "        soup2 = BeautifulSoup(html, 'html.parser')\n",
    "        li = soup2.find('li', {'class':'ipc-metadata-list__item'})\n",
    "        directorName = li.div.ul.li.a.text\n",
    "        directorId = li.div.ul.li.a['href']\n",
    "        directorurl = f\"https://www.imdb.com/{directorId}\"\n",
    "        print(directorName, directorurl)\n",
    "        \n",
    "        r3 = requests.get(directorurl, headers = headers, verify = False)\n",
    "        html = r3.text\n",
    "        soup3 = BeautifulSoup(html, 'html.parser')\n",
    "        knownfor = soup3.find('div', {'data-testid':'nm_flmg_kwn_for'})\n",
    "        movieDivs = knownfor.findAll('div', {'class':'ipc-list-card--span ipc-list-card--border-line ipc-list-card ipc-primary-image-list-card ipc-primary-image-list-card--base ipc-primary-image-list-card--click sc-ce84b38-0 lleRhy ipc-list-card--base ipc-sub-grid-item ipc-sub-grid-item--span-4'})\n",
    "        recommendedMovies = []\n",
    "        for div in movieDivs:\n",
    "            movieNamediv = div.find('div',{'class':'ipc-primary-image-list-card__content-top'})\n",
    "            recommendedMovies.append(movieNamediv.a.string)\n",
    "        recommendedMovies = ','.join(recommendedMovies)\n",
    "        print(recommendedMovies)\n",
    "        \n",
    "        break"
   ]
  },
  {
   "cell_type": "code",
   "execution_count": null,
   "id": "e55a39bb",
   "metadata": {},
   "outputs": [],
   "source": []
  }
 ],
 "metadata": {
  "kernelspec": {
   "display_name": "Python 3 (ipykernel)",
   "language": "python",
   "name": "python3"
  },
  "language_info": {
   "codemirror_mode": {
    "name": "ipython",
    "version": 3
   },
   "file_extension": ".py",
   "mimetype": "text/x-python",
   "name": "python",
   "nbconvert_exporter": "python",
   "pygments_lexer": "ipython3",
   "version": "3.9.13"
  }
 },
 "nbformat": 4,
 "nbformat_minor": 5
}
